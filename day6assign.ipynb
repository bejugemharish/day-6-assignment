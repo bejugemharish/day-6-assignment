{
  "nbformat": 4,
  "nbformat_minor": 0,
  "metadata": {
    "colab": {
      "provenance": []
    },
    "kernelspec": {
      "name": "python3",
      "display_name": "Python 3"
    },
    "language_info": {
      "name": "python"
    }
  },
  "cells": [
    {
      "cell_type": "code",
      "execution_count": 3,
      "metadata": {
        "colab": {
          "base_uri": "https://localhost:8080/"
        },
        "id": "IYSma_zEOb6p",
        "outputId": "cddf6952-8be9-4e98-ef90-6c418252e8b1"
      },
      "outputs": [
        {
          "output_type": "stream",
          "name": "stdout",
          "text": [
            "[1, 2, 3, 4, 5, 6]\n"
          ]
        }
      ],
      "source": [
        "S1 = ([1, 2, 3, 4, 5, 6])\n",
        "S2 = ([3, 4, 5, 6])\n",
        "S3 = S1.copy()\n",
        "print(S3)\n",
        ""
      ]
    },
    {
      "cell_type": "code",
      "source": [
        "S1 = {1, 2, 3, 9, 8}\n",
        "S2 = {9, 3, 4, 6, 7}\n",
        "print (S1.difference(S2))\n",
        "print (S2.difference(S1))"
      ],
      "metadata": {
        "colab": {
          "base_uri": "https://localhost:8080/"
        },
        "id": "V7UimnUbPg6f",
        "outputId": "08a7f16b-e03c-499e-9f80-c1a878ee93a9"
      },
      "execution_count": 5,
      "outputs": [
        {
          "output_type": "stream",
          "name": "stdout",
          "text": [
            "{8, 1, 2}\n",
            "{4, 6, 7}\n"
          ]
        }
      ]
    },
    {
      "cell_type": "code",
      "source": [
        "S1 = {3, 4, 5}\n",
        "S2 = {3, 4}\n",
        "print(S1.intersection(S2))"
      ],
      "metadata": {
        "colab": {
          "base_uri": "https://localhost:8080/"
        },
        "id": "T41V8Gr9P84w",
        "outputId": "4775289c-644a-447a-fe02-d1cb9c53b6f0"
      },
      "execution_count": 6,
      "outputs": [
        {
          "output_type": "stream",
          "name": "stdout",
          "text": [
            "{3, 4}\n"
          ]
        }
      ]
    },
    {
      "cell_type": "code",
      "source": [
        "S1 = {20, 40, 50, 60}\n",
        "S2 = {40, 60, 70, 80}\n",
        "\n",
        "print(\"S1 U S2:\", S1.union(S2))"
      ],
      "metadata": {
        "colab": {
          "base_uri": "https://localhost:8080/"
        },
        "id": "BPf4PtODQMn1",
        "outputId": "9956a992-dfa5-4298-865c-957cd7dff903"
      },
      "execution_count": 7,
      "outputs": [
        {
          "output_type": "stream",
          "name": "stdout",
          "text": [
            "S1 U S2: {70, 40, 80, 50, 20, 60}\n"
          ]
        }
      ]
    },
    {
      "cell_type": "code",
      "source": [
        "S1 = {1, 2, 4, 3}\n",
        "S2 = {1, 0, 4, 6, 3, 5, 2, 5}\n",
        "\n",
        "print(\"S1.issuperset(S2) : \", S1.issuperset(S2))\n",
        "print(\"S2.issuperset(S1) : \", S2.issuperset(S1))"
      ],
      "metadata": {
        "colab": {
          "base_uri": "https://localhost:8080/"
        },
        "id": "CN25H0YQRGb3",
        "outputId": "139b6eb2-34ec-4f37-939c-3cdd57877e54"
      },
      "execution_count": 9,
      "outputs": [
        {
          "output_type": "stream",
          "name": "stdout",
          "text": [
            "S1.issuperset(S2) :  False\n",
            "S2.issuperset(S1) :  True\n"
          ]
        }
      ]
    },
    {
      "cell_type": "code",
      "source": [
        "S1 = {1, 2, 3, 4, 5}\n",
        "S2 = {4, 5}\n",
        "print(S2.issubset(S1))"
      ],
      "metadata": {
        "colab": {
          "base_uri": "https://localhost:8080/"
        },
        "id": "v5oWrEB1RroN",
        "outputId": "639ca35c-b1c2-42bf-d784-5f0b67d37a2c"
      },
      "execution_count": 10,
      "outputs": [
        {
          "output_type": "stream",
          "name": "stdout",
          "text": [
            "True\n"
          ]
        }
      ]
    },
    {
      "cell_type": "code",
      "source": [
        "S1 = {1, 2, 3}\n",
        "S2 = {4, 5, 6}\n",
        "print(S1.isdisjoint(S2))"
      ],
      "metadata": {
        "colab": {
          "base_uri": "https://localhost:8080/"
        },
        "id": "lQbuTeUaR4lX",
        "outputId": "f1af6445-2fcf-47d1-c47b-26b961e49979"
      },
      "execution_count": 11,
      "outputs": [
        {
          "output_type": "stream",
          "name": "stdout",
          "text": [
            "True\n"
          ]
        }
      ]
    },
    {
      "cell_type": "code",
      "source": [
        "list1 = [1, 2, 3, 4]\n",
        "list2 = [2, 3, 5, 6]\n",
        "list3 = [3, 4, 5, 6]\n",
        "set1 = set(list1)\n",
        "set2 = set(list2)\n",
        "print(set1.symmetric_difference(set2))"
      ],
      "metadata": {
        "colab": {
          "base_uri": "https://localhost:8080/"
        },
        "id": "onhTXz4jSIFX",
        "outputId": "45baa049-662a-4ab2-cdc1-dcf83070e93c"
      },
      "execution_count": 14,
      "outputs": [
        {
          "output_type": "stream",
          "name": "stdout",
          "text": [
            "{1, 4, 5, 6}\n"
          ]
        }
      ]
    },
    {
      "cell_type": "code",
      "source": [
        "list1 = [1, 2, 3, 4 ]\n",
        "list2 = [2, 3, 4, 5]\n",
        "list3 = [3, 4, 5, 6]\n",
        "set1 = set(list1)\n",
        "set2 = set(list2)\n",
        "print(set2.symmetric_difference(list3))"
      ],
      "metadata": {
        "colab": {
          "base_uri": "https://localhost:8080/"
        },
        "id": "E2JN_kbSSkVd",
        "outputId": "f2da76f5-c1e0-4892-d52b-a8ffd4415f5f"
      },
      "execution_count": 17,
      "outputs": [
        {
          "output_type": "stream",
          "name": "stdout",
          "text": [
            "{2, 6}\n"
          ]
        }
      ]
    }
  ]
}